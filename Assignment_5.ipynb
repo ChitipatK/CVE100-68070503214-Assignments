{
  "nbformat": 4,
  "nbformat_minor": 0,
  "metadata": {
    "colab": {
      "provenance": []
    },
    "kernelspec": {
      "name": "python3",
      "display_name": "Python 3"
    },
    "language_info": {
      "name": "python"
    }
  },
  "cells": [
    {
      "cell_type": "markdown",
      "source": [
        "**Question 1 — 15 marks**\n",
        "\n",
        "1.1. Create a dictionary named student with the keys and values:\n",
        "\n",
        "{\"name\": \"Alex\", \"age\": 20, \"grade\": \"B\"}. (3 marks)\n",
        "\n",
        "1.2. Display the value of the \"name\" key. (3 marks)\n",
        "\n",
        "1.3. Change the \"grade\" value to \"A\". (3 marks)\n",
        "\n",
        "1.4. Add a new key \"major\" with the value \"Computer Engineering\" to the dictionary. (3\n",
        "marks)\n",
        "\n",
        "1.5. Print all key-value pairs in the dictionary using a for loop. (3 marks)"
      ],
      "metadata": {
        "id": "VMsT_f8ciadA"
      }
    },
    {
      "cell_type": "code",
      "execution_count": null,
      "metadata": {
        "colab": {
          "base_uri": "https://localhost:8080/"
        },
        "id": "499J_84diHc6",
        "outputId": "0abd4dcc-3c79-4cd7-d1d7-4669139e4840"
      },
      "outputs": [
        {
          "output_type": "stream",
          "name": "stdout",
          "text": [
            "Alex\n",
            "name Alex\n",
            "age 20\n",
            "grade A\n",
            "major Computer Engineering\n"
          ]
        }
      ],
      "source": [
        "input_dict = {\"name\": \"Alex\", \"age\": 20, \"grade\": \"B\"}\n",
        "print(input_dict[\"name\"])\n",
        "input_dict[\"grade\"] = \"A\"\n",
        "input_dict[\"major\"] = \"Computer Engineering\"\n",
        "for key, value in input_dict.items():\n",
        "    print(key, value)"
      ]
    },
    {
      "cell_type": "markdown",
      "source": [
        "**Question 2 — 20 marks**\n",
        "\n",
        "2.1. Make a dictionary called books with book titles as keys and the number of available copies\n",
        "as values.\n",
        "\n",
        "Example: \"Math\": 3, \"Science\": 5, \"History\": 2. (3 marks)\n",
        "\n",
        "2.2. Ask the user to type the title of the book they want to borrow. (3 marks)\n",
        "\n",
        "2.3. If the book exists and copies > 0 → reduce the count by 1 and print \"You borrowed the\n",
        "book\". (6 marks)\n",
        "\n",
        "2.4. If the book exists but copies = 0 → print \"Book out of stock\". (4 marks)\n",
        "\n",
        "2.5. If the book doesn’t exist → print \"Book not found\". (4 marks)"
      ],
      "metadata": {
        "id": "s84JPnTfm_nw"
      }
    },
    {
      "cell_type": "code",
      "source": [
        "input_dict = {\"Math\": 3, \"Science\": 5, \"History\": 2}\n",
        "book_title = input(\"Enter the title of the book you want to borrow: \")\n",
        "if book_title in input_dict:\n",
        "    if input_dict[book_title] > 0:\n",
        "        input_dict[book_title] -= 1\n",
        "        print(\"You borrowed the book\")\n",
        "    else:\n",
        "        print(\"Book out of stock\")\n",
        "else:\n",
        "    print(\"Book not found\")"
      ],
      "metadata": {
        "colab": {
          "base_uri": "https://localhost:8080/"
        },
        "id": "JvDTeio4nKIA",
        "outputId": "8acb350d-5f83-440c-8c45-71cd62fc6d34"
      },
      "execution_count": null,
      "outputs": [
        {
          "output_type": "stream",
          "name": "stdout",
          "text": [
            "Enter the title of the book you want to borrow: History\n",
            "You borrowed the book\n"
          ]
        }
      ]
    },
    {
      "cell_type": "markdown",
      "source": [
        "**Question 3 — 20 marks**\n",
        "\n",
        "3.1. Define a function income_tax(income) that takes annual income as an argument. (4 marks)\n",
        "\n",
        "3.2. If income ≤ 100000 → tax = 0. (4 marks)\n",
        "\n",
        "3.3. If 100000 < income ≤ 300000 → tax = (income – 100000) × 0.1. (4 marks)\n",
        "\n",
        "3.4. If income > 300000 → tax = (200000 × 0.1) + (income – 300000) × 0.2. (4 marks)\n",
        "\n",
        "3.5. Ask the user for their income, call the function, and print \"Tax = \" with the result. (4\n",
        "marks)\n"
      ],
      "metadata": {
        "id": "tFCE079MnLBY"
      }
    },
    {
      "cell_type": "code",
      "source": [
        "def income_tax(income):\n",
        "  if income <= 100000:\n",
        "    tax = 0\n",
        "  if 100000 < income <= 300000:\n",
        "    tax = (income - 100000) * 0.1\n",
        "  if income > 300000:\n",
        "    tax = (200000 * 0.1) + (income - 300000) * 0.2\n",
        "  return tax\n",
        "income = int(input(\"Enter your income: \"))\n",
        "print(\"Tax =\", income_tax(income))"
      ],
      "metadata": {
        "colab": {
          "base_uri": "https://localhost:8080/"
        },
        "id": "Jfc3uXvCnuTA",
        "outputId": "d4806656-a64d-4e1f-9c89-8e0f5ce52b4f"
      },
      "execution_count": null,
      "outputs": [
        {
          "output_type": "stream",
          "name": "stdout",
          "text": [
            "Enter your income: 50000\n",
            "Tax = 0\n"
          ]
        }
      ]
    },
    {
      "cell_type": "markdown",
      "source": [
        "**Question 4 — 20 marks**\n",
        "\n",
        "4.1. Define a function sum_even_numbers(n) that takes a number n. (3 marks)\n",
        "\n",
        "4.2. Create a variable total = 0 to store the sum. (2 marks)\n",
        "\n",
        "4.3. Use a loop to add all even numbers from 1 to n into total. (6 marks)\n",
        "\n",
        "4.4. Return the total sum. (4 marks)\n",
        "\n",
        "4.5. In the main program, ask the user for a number, call the function, and print: \"Sum of even\n",
        "numbers = \" with the result. (5 marks)"
      ],
      "metadata": {
        "id": "Yfx1JXHdnnEI"
      }
    },
    {
      "cell_type": "code",
      "source": [
        "def sum_even_numbers(n):\n",
        "  total = 0\n",
        "  for i in range(1, n + 1):\n",
        "    if i % 2 == 0:\n",
        "      total += i\n",
        "  return total\n",
        "n = int(input(\"Enter a number: \"))\n",
        "print(\"Sum of even numbers =\", sum_even_numbers(n))"
      ],
      "metadata": {
        "colab": {
          "base_uri": "https://localhost:8080/"
        },
        "id": "4VL6y9IWnu1I",
        "outputId": "e8c3c353-958c-4133-cd4f-993c250cc657"
      },
      "execution_count": null,
      "outputs": [
        {
          "output_type": "stream",
          "name": "stdout",
          "text": [
            "Enter a number: 10\n",
            "Sum of even numbers = 30\n"
          ]
        }
      ]
    },
    {
      "cell_type": "markdown",
      "source": [
        "**Question 5 — (25 marks)**\n",
        "\n",
        "You are asked to design a simple Car Rental System using classes and objects.\n",
        "\n",
        "**Steps:**\n",
        "\n",
        "1. Define a class named Car. (2 marks)\n",
        "\n",
        "2. Add an initializer (__init__) method with three attributes: (3 marks)\n",
        "\n",
        "o model (string)\n",
        "\n",
        "o rent_per_day (float)\n",
        "\n",
        "o available (boolean, default value = True)\n",
        "\n",
        "3. Add a method rent(days) that: (4 marks)\n",
        "\n",
        "o If available is True, set it to False, calculate total cost (rent_per_day × days),\n",
        "and print \"Car rented. Total cost = \" with the cost.\n",
        "\n",
        "o Otherwise, print \"Car not available\"\n",
        "\n",
        "4. Add a method return_car() that: (4 marks)\n",
        "\n",
        "o Sets available to True\n",
        "\n",
        "o Prints \"Car returned\"\n",
        "\n",
        "5. Add a method display() that prints the car model, rent per day, and availability status.\n",
        "(3 marks)\n",
        "\n",
        "6. In the main program: (9 marks)\n",
        "\n",
        "o Create an object for Car with a model and rent per day. (2 marks)\n",
        "\n",
        "o Call the rent method for 5 days. (2 marks)\n",
        "\n",
        "o Call the display method. (2 marks)\n",
        "\n",
        "o Call the return_car method and display the car info again. (3 marks)"
      ],
      "metadata": {
        "id": "Vk6kU0A3jbH_"
      }
    },
    {
      "cell_type": "code",
      "source": [
        "class Car:\n",
        "    def __init__(self, model, rent_per_day, available=True):\n",
        "        self.model = model\n",
        "        self.rent_per_day = rent_per_day\n",
        "        self.available = True\n",
        "    def rent(self, days):\n",
        "        if self.available:\n",
        "            self.available = False\n",
        "            total_cost = self.rent_per_day * days\n",
        "            print(f\"Car rented. Total cost = {total_cost}\")\n",
        "        else:\n",
        "            print(\"Car not available\")\n",
        "    def return_car(self):\n",
        "        self.available = True\n",
        "        print(\"Car returned\")\n",
        "    def display(self):\n",
        "        print(f\"Model: {self.model}, Rent per day: {self.rent_per_day}, Available: {self.available}\")"
      ],
      "metadata": {
        "id": "b6Sdj0UhjsaP"
      },
      "execution_count": null,
      "outputs": []
    },
    {
      "cell_type": "markdown",
      "source": [
        "**Step 1 Parent Class - Person**\n",
        "1. Define a class \"Person\",\n",
        "2. Add __init__(self, name, age) and store those values on the object.\n",
        "3. Add a method display_info (self) that prints:\n",
        "    Name: <name>, Age: <age>\n",
        "\n",
        "**Step 2: Child class - Student italicized text**\n",
        "1. Define a class \"Student\" that inherits from \"Person\".\n",
        "2. Add __init__ function with super() to inherit the attributes from parent class.\n",
        "3. Add a new attribute \"marks\" and set it to an empty dictionary {}:\n",
        "    e.g., {\"Math\": 85}\n",
        "\n",
        "4. Implement add_mark (self, subject, score) function inside the Student class:\n",
        "    add or update the score in the marks dict.\n",
        "   \tif the subject does not exist in the mark dictionary, add new subject    and score to the dictionary\n",
        "        otherwise, update the score of the existing subject.\n",
        "    print a confirmation message like \"Added Science = 85\" or \"Updated Math = 90\"\n",
        "5. Implement display_marks(self) function.\n",
        "6. Implement average(self):\n",
        "    If no marks. return 0\n",
        "    otherwise, return the average (sumof scores / number of subjects)\n",
        "\n",
        "**Step 3: Main Program**\n",
        "1. Create one Student with name and age.\n",
        "2. Call display_info()\n",
        "3. Add at least two subject makrs\n",
        "4. Call display_marks()\n",
        "5. Print the average score the student.\n"
      ],
      "metadata": {
        "id": "WyOpNMsPzElK"
      }
    },
    {
      "cell_type": "code",
      "source": [
        "class Person:\n",
        "    def __init__(self, name, age):\n",
        "        self.name = name\n",
        "        self.age = age\n",
        "    def display_info(self):\n",
        "        print(f\"Name: {self.name}, Age: {self.age}\")\n",
        "class Student(Person):\n",
        "    def __init__(self, name, age):\n",
        "        super().__init__(name, age)\n",
        "        self.marks = {}\n",
        "    def add_mark(self, subject, score):\n",
        "        self.marks[subject] = score\n",
        "    def display_marks(self):\n",
        "        print(f\"Marks for {self.name}:\")\n",
        "        for subject, score in self.marks.items():\n",
        "            print(f\"{subject}: {score}\")\n",
        "    def average(self):\n",
        "        if not self.marks:\n",
        "            return 0\n",
        "        total = sum(self.marks.values())\n",
        "        return total / len(self.marks)\n",
        "input_student = Student(\"Jack\", 19)\n",
        "input_student.display_info()\n",
        "input_student.add_mark(\"Math\", 85)\n",
        "input_student.add_mark(\"Science\", 90)\n",
        "input_student.display_marks()\n",
        "print(f\"Average score: {input_student.average()}\")"
      ],
      "metadata": {
        "colab": {
          "base_uri": "https://localhost:8080/"
        },
        "id": "UNoQKyMHzDmz",
        "outputId": "0ec29824-3a8b-4bec-87ef-248e81276eaf"
      },
      "execution_count": null,
      "outputs": [
        {
          "output_type": "stream",
          "name": "stdout",
          "text": [
            "Name: Jack, Age: 19\n",
            "Marks for Jack:\n",
            "Math: 85\n",
            "Science: 90\n",
            "Average score: 87.5\n"
          ]
        }
      ]
    }
  ]
}