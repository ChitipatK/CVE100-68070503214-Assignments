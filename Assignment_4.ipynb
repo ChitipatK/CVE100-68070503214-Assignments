{
  "nbformat": 4,
  "nbformat_minor": 0,
  "metadata": {
    "colab": {
      "provenance": []
    },
    "kernelspec": {
      "name": "python3",
      "display_name": "Python 3"
    },
    "language_info": {
      "name": "python"
    }
  },
  "cells": [
    {
      "cell_type": "code",
      "source": [
        "n = 10\n",
        "for i in range(1,n):\n",
        "  if i%2==0:\n",
        "    print(i, \"is even\")\n",
        "  else:\n",
        "    print(i, \"is odd\")"
      ],
      "metadata": {
        "colab": {
          "base_uri": "https://localhost:8080/"
        },
        "id": "WdB1jr6tg-aA",
        "outputId": "a0da99f6-f373-49d5-a8c5-bffbcca6df57"
      },
      "execution_count": null,
      "outputs": [
        {
          "output_type": "stream",
          "name": "stdout",
          "text": [
            "1 is odd\n",
            "2 is even\n",
            "3 is odd\n",
            "4 is even\n",
            "5 is odd\n",
            "6 is even\n",
            "7 is odd\n",
            "8 is even\n",
            "9 is odd\n"
          ]
        }
      ]
    },
    {
      "cell_type": "markdown",
      "source": [
        "# Multiplication\n",
        "- define n (n = 5)\n",
        "- Use a loop from 1 to 10 (the value of i is 1 to 10)\n",
        "- if the result of multiplication (num*1) is greater than 50 => print (\"the result is large\")\n",
        "- otherwise, print the actual result ==> print (\"Result=\", result)"
      ],
      "metadata": {
        "id": "k8BiCwHoi3QA"
      }
    },
    {
      "cell_type": "code",
      "source": [
        "n = 5\n",
        "for i in range(1,10):\n",
        "  if i*n > 50:\n",
        "    print(\"Result is large\")\n",
        "  else:\n",
        "    print(\"Result=\", i*n)"
      ],
      "metadata": {
        "colab": {
          "base_uri": "https://localhost:8080/"
        },
        "id": "-Tg-WS3Vi0eQ",
        "outputId": "c2da382f-c27e-464c-bd01-c03f3bc85862"
      },
      "execution_count": null,
      "outputs": [
        {
          "output_type": "stream",
          "name": "stdout",
          "text": [
            "Result= 5\n",
            "Result= 10\n",
            "Result= 15\n",
            "Result= 20\n",
            "Result= 25\n",
            "Result= 30\n",
            "Result= 35\n",
            "Result= 40\n",
            "Result= 45\n"
          ]
        }
      ]
    },
    {
      "cell_type": "markdown",
      "source": [
        "# Skipping the special numbers\n",
        "\n",
        "\n",
        "define n\n",
        "\n",
        "loop numbers from 1 to n\n",
        "\n",
        "if the number is divisible 4 ==> skip it with continue\n",
        "\n",
        "if the number is greater that 20 ==> stop the loop with break\n",
        "\n",
        "otherwise --> print the number"
      ],
      "metadata": {
        "id": "BAePkFLgltAh"
      }
    },
    {
      "cell_type": "code",
      "source": [
        "for i in range(1,100):\n",
        "  if i%4==0:\n",
        "    continue\n",
        "  if i>20:\n",
        "    break\n",
        "  print(i)"
      ],
      "metadata": {
        "colab": {
          "base_uri": "https://localhost:8080/"
        },
        "id": "ttRPEuJRnKQB",
        "outputId": "6cb8a79d-413d-41a4-c925-8ed3a0428ffb"
      },
      "execution_count": null,
      "outputs": [
        {
          "output_type": "stream",
          "name": "stdout",
          "text": [
            "1\n",
            "2\n",
            "3\n",
            "5\n",
            "6\n",
            "7\n",
            "9\n",
            "10\n",
            "11\n",
            "13\n",
            "14\n",
            "15\n",
            "17\n",
            "18\n",
            "19\n"
          ]
        }
      ]
    },
    {
      "cell_type": "markdown",
      "source": [
        "# Guess the number\n",
        "\n",
        "The secrest number is 777.\n",
        "\n",
        "-Ask the user to guess until they get it right.\n",
        "\n",
        "-If the guess is wrong, print \"Try Again\"\n",
        "\n",
        "-If the guess is correct, print \"You got it\" and stop the loop"
      ],
      "metadata": {
        "id": "3OBqeF8zmb2p"
      }
    },
    {
      "cell_type": "code",
      "source": [
        "secret = 777\n",
        "guess = int(input(\"Guess three digit lucky number from 000 to 999\"))\n",
        "while secret != guess:\n",
        "  print(\"Try Again\")\n",
        "  guess = int(input(\"Guess three digit lucky number from 000 to 999\"))\n",
        "print(\"You got it\")"
      ],
      "metadata": {
        "colab": {
          "base_uri": "https://localhost:8080/"
        },
        "id": "kDDS6Q-koBK5",
        "outputId": "805a7c46-91a9-43ed-86c6-4f977b1d9b2a"
      },
      "execution_count": null,
      "outputs": [
        {
          "output_type": "stream",
          "name": "stdout",
          "text": [
            "Guess three digit lucky number from 000 to 999000\n",
            "Try Again\n",
            "Guess three digit lucky number from 000 to 999111\n",
            "Try Again\n",
            "Guess three digit lucky number from 000 to 999222\n",
            "Try Again\n",
            "Guess three digit lucky number from 000 to 999333\n",
            "Try Again\n",
            "Guess three digit lucky number from 000 to 999444\n",
            "Try Again\n",
            "Guess three digit lucky number from 000 to 999555\n",
            "Try Again\n",
            "Guess three digit lucky number from 000 to 999666\n",
            "Try Again\n",
            "Guess three digit lucky number from 000 to 999777\n",
            "You got it\n"
          ]
        }
      ]
    },
    {
      "cell_type": "markdown",
      "source": [
        "# Shopping Cart Checkout System\n",
        "\n",
        "Use initial variable total_bill = 0\n",
        "\n",
        "Ask user to add price and add the price total_bill.\n",
        "\n",
        "If total_bill>1000 , print (\"limit reached, You cannot buy anymore\" and break the loop)\n",
        "\n",
        "otherwise, ask user to add price"
      ],
      "metadata": {
        "id": "dRJy1jOJshZj"
      }
    },
    {
      "cell_type": "code",
      "source": [
        "total_bill = 0\n",
        "total_bill = float(input(\"What is the total bill? \"))\n",
        "while total_bill < 1000:\n",
        "  total_bill = total_bill + float(input(\"What is the total bill? \"))\n",
        "print(\"Limit reache, You cannot buy anymore\")\n"
      ],
      "metadata": {
        "colab": {
          "base_uri": "https://localhost:8080/"
        },
        "id": "nzgk_L-ytZNL",
        "outputId": "d4547f49-c224-4d45-c889-997133696060"
      },
      "execution_count": null,
      "outputs": [
        {
          "output_type": "stream",
          "name": "stdout",
          "text": [
            "What is the total bill? 500\n",
            "What is the total bill? 200\n",
            "What is the total bill? 300\n",
            "Limit reached. You cannot buy anymore\n"
          ]
        }
      ]
    }
  ]
}