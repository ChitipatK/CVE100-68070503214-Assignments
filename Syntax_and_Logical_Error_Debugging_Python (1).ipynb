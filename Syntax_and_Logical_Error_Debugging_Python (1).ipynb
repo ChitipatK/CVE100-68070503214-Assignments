{
  "nbformat": 4,
  "nbformat_minor": 0,
  "metadata": {
    "colab": {
      "provenance": []
    },
    "kernelspec": {
      "name": "python3",
      "display_name": "Python 3"
    },
    "language_info": {
      "name": "python"
    }
  },
  "cells": [
    {
      "cell_type": "code",
      "source": [
        "# Expected Output:\n",
        "# Sum of first 3 positives: 12\n",
        "\n",
        "nums = [-1, 2, -5, 3, 7, -2, 4]\n",
        "count = 0\n",
        "total = 0\n",
        "\n",
        "for n in nums:\n",
        "    if n > 0:\n",
        "      total += n\n",
        "      count += 1\n",
        "    if count == 3:\n",
        "      break\n",
        "\n",
        "print(\"Sum of first 3 positives:\", total)"
      ],
      "metadata": {
        "colab": {
          "base_uri": "https://localhost:8080/"
        },
        "id": "1TS7NGz0HgI_",
        "outputId": "c054a923-568c-4f9d-b9c2-bcfde6d52a22"
      },
      "execution_count": 6,
      "outputs": [
        {
          "output_type": "stream",
          "name": "stdout",
          "text": [
            "Sum of first 3 positives: 12\n"
          ]
        }
      ]
    },
    {
      "cell_type": "code",
      "source": [
        "# find the highest scoring player\n",
        "# Expected Output:\n",
        "# Winner: Cara\n",
        "players = [(\"Alice\", 15), (\"Bob\", 10), (\"Cara\", 20), (\"Dan\", 9)]\n",
        "winner = None\n",
        "best = -1\n",
        "\n",
        "for name, score in players:\n",
        "    if score > best:\n",
        "        best = score\n",
        "        winner = name\n",
        "\n",
        "print(\"Winner:\", winner)"
      ],
      "metadata": {
        "colab": {
          "base_uri": "https://localhost:8080/"
        },
        "id": "g_9Bz8qc_GDA",
        "outputId": "96f8d614-8dbd-4bff-f3f0-192938c0c961"
      },
      "execution_count": 10,
      "outputs": [
        {
          "output_type": "stream",
          "name": "stdout",
          "text": [
            "Winner: Cara\n"
          ]
        }
      ]
    },
    {
      "cell_type": "code",
      "source": [
        "# Expected Output:\n",
        "# First positive multiple of 7: 7\n",
        "nums = [-14, -7, 0, 7, 14, 21, 28]\n",
        "first = None\n",
        "for n in nums:\n",
        "    if n > 0 and n % 7 == 0:\n",
        "      first = n\n",
        "      break\n",
        "\n",
        "if first is None:\n",
        "    print(\"None found\")\n",
        "else:\n",
        "    print(\"First positive multiple of 7:\", first)"
      ],
      "metadata": {
        "colab": {
          "base_uri": "https://localhost:8080/"
        },
        "id": "mFnCscKF_odT",
        "outputId": "c89ba2bc-85a2-4d86-8591-85bb84033e5d"
      },
      "execution_count": 61,
      "outputs": [
        {
          "output_type": "stream",
          "name": "stdout",
          "text": [
            "First positive multiple of 7: 7\n"
          ]
        }
      ]
    },
    {
      "cell_type": "code",
      "source": [
        "# Expected Output:\n",
        "# mean=3.0 min=1 max=5\n",
        "\n",
        "def stats(nums):\n",
        "    mn = min(nums)\n",
        "    mx = max(nums)\n",
        "    avg = sum(nums)/len(nums)\n",
        "    return mn, mx, avg\n",
        "\n",
        "mn, mx, avg = stats([1,2,3,4,5])\n",
        "print(f\"mean={avg} min={mn} max={mx}\")"
      ],
      "metadata": {
        "id": "AY7quxB6Bulg",
        "colab": {
          "base_uri": "https://localhost:8080/"
        },
        "outputId": "caa9a4bd-89c2-45d6-cf96-61ce4a11b601"
      },
      "execution_count": 33,
      "outputs": [
        {
          "output_type": "stream",
          "name": "stdout",
          "text": [
            "mean=3.0 min=1 max=5\n"
          ]
        }
      ]
    },
    {
      "cell_type": "code",
      "source": [
        "# Expected Output: Random array of shape (2,3)\n",
        "import numpy\n",
        "a = numpy.random.rand(2,3)\n",
        "print(a)\n"
      ],
      "metadata": {
        "id": "HXRmCSI8DVAa",
        "colab": {
          "base_uri": "https://localhost:8080/"
        },
        "outputId": "43e20b56-c06e-4034-e52c-928aa6ddf4f6"
      },
      "execution_count": 36,
      "outputs": [
        {
          "output_type": "stream",
          "name": "stdout",
          "text": [
            "[[0.96700471 0.89526976 0.79445037]\n",
            " [0.53081288 0.98516318 0.03707816]]\n"
          ]
        }
      ]
    },
    {
      "cell_type": "code",
      "source": [
        "# Expected Output: sqrt(16) = 4.0\n",
        "import numpy as np\n",
        "import math\n",
        "print(\"sqrt(16) =\", math.sqrt(16))"
      ],
      "metadata": {
        "collapsed": true,
        "id": "gX6tW-lBDhn_",
        "colab": {
          "base_uri": "https://localhost:8080/"
        },
        "outputId": "09f783e2-d22a-4dd2-ab28-6b71e7e034b4"
      },
      "execution_count": 41,
      "outputs": [
        {
          "output_type": "stream",
          "name": "stdout",
          "text": [
            "sqrt(16) = 4.0\n"
          ]
        }
      ]
    },
    {
      "cell_type": "code",
      "source": [
        "# Expected Output: 0.7071067811865476\n",
        "\n",
        "import math\n",
        "import numpy\n",
        "print(math.sin(math.pi / 4))"
      ],
      "metadata": {
        "id": "Jg4KYIhSDouW",
        "colab": {
          "base_uri": "https://localhost:8080/"
        },
        "outputId": "b42b2c6f-c7e3-41d7-a77e-8a15fb1b16af"
      },
      "execution_count": 42,
      "outputs": [
        {
          "output_type": "stream",
          "name": "stdout",
          "text": [
            "0.7071067811865475\n"
          ]
        }
      ]
    },
    {
      "cell_type": "code",
      "source": [
        "# Expected Output: Mean = 3.0\n",
        "import numpy as np\n",
        "arr = np.array([1, 2, 3, 4, 5])\n",
        "mean = np.sum(arr) / np.size(arr)\n",
        "print(\"Mean =\", mean)\n"
      ],
      "metadata": {
        "colab": {
          "base_uri": "https://localhost:8080/"
        },
        "id": "AsaiYN8PDyfe",
        "outputId": "fed6cf48-1499-488c-8299-b3dbc88bc191"
      },
      "execution_count": 43,
      "outputs": [
        {
          "output_type": "stream",
          "name": "stdout",
          "text": [
            "Mean = 3.0\n"
          ]
        }
      ]
    },
    {
      "cell_type": "code",
      "source": [
        "# Expected Output:\n",
        "# Aye 25\n",
        "class Person:\n",
        "    def __init__(self, name, age):\n",
        "        self.name = name\n",
        "        self.age = age\n",
        "\n",
        "p = Person(\"Aye\", 25)\n",
        "print(p.name, p.age)\n"
      ],
      "metadata": {
        "id": "kb42Oi8IEjjq",
        "colab": {
          "base_uri": "https://localhost:8080/"
        },
        "outputId": "0b4b7bbb-9017-4947-f5e4-c31abc886ba7"
      },
      "execution_count": 47,
      "outputs": [
        {
          "output_type": "stream",
          "name": "stdout",
          "text": [
            "Aye 25\n"
          ]
        }
      ]
    },
    {
      "cell_type": "code",
      "source": [
        "# Expected Output:\n",
        "# 50000\n",
        "class Employee:\n",
        "    def __init__(self, salary):\n",
        "        self.salary = salary\n",
        "\n",
        "    def get_salary(self):\n",
        "        return self.salary\n",
        "\n",
        "e = Employee(50000)\n",
        "print(e.salary)\n"
      ],
      "metadata": {
        "id": "eCULBxn7FWmb",
        "colab": {
          "base_uri": "https://localhost:8080/"
        },
        "outputId": "8f99403e-831c-421d-aabd-3b05dccffd58"
      },
      "execution_count": 55,
      "outputs": [
        {
          "output_type": "stream",
          "name": "stdout",
          "text": [
            "50000\n"
          ]
        }
      ]
    },
    {
      "cell_type": "code",
      "source": [
        "# Expected Output:\n",
        "# Brand: Toyota, Engine: 2000\n",
        "class Vehicle:\n",
        "    def __init__(self, brand):\n",
        "        self.brand = brand\n",
        "\n",
        "class Car(Vehicle):\n",
        "    def __init__(self, brand, engine):\n",
        "        self.brand = brand\n",
        "        self.engine = engine\n",
        "\n",
        "c = Car(\"Toyota\", 2000)\n",
        "print(f\"Brand: {c.brand}, Engine: {c.engine}\")"
      ],
      "metadata": {
        "id": "y_SJZvylFmXT",
        "colab": {
          "base_uri": "https://localhost:8080/"
        },
        "outputId": "62b7626b-2454-4146-df95-c7554aaa0bce"
      },
      "execution_count": 66,
      "outputs": [
        {
          "output_type": "stream",
          "name": "stdout",
          "text": [
            "Brand: Toyota, Engine: 2000\n"
          ]
        }
      ]
    },
    {
      "cell_type": "code",
      "source": [
        "# Expected Output:\n",
        "# Area: 12.56\n",
        "import math\n",
        "\n",
        "class Shape:\n",
        "    def area(self):\n",
        "        pass\n",
        "\n",
        "class Circle(Shape):\n",
        "    def area(self,radius):\n",
        "        return math.pi * radius ** 2\n",
        "\n",
        "c = Circle()\n",
        "print(\"Area:\", c.area(2))"
      ],
      "metadata": {
        "id": "VZQ3DDbsHWC4",
        "colab": {
          "base_uri": "https://localhost:8080/"
        },
        "outputId": "c505b468-9a6d-4564-8c95-4a1497ee26d2"
      },
      "execution_count": 76,
      "outputs": [
        {
          "output_type": "stream",
          "name": "stdout",
          "text": [
            "Area: 12.566370614359172\n"
          ]
        }
      ]
    }
  ]
}