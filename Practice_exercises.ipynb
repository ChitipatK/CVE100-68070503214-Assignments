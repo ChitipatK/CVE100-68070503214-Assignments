{
  "cells": [
    {
      "cell_type": "markdown",
      "id": "186222d0",
      "metadata": {
        "id": "186222d0"
      },
      "source": [
        "Exercise 1\n",
        "\n",
        "Write a function to report the weather condition.\n",
        "Input ==> Temperature ('C)\n",
        "\n",
        "IF the temperature is below 0, print \"Freezing Cold\"\n",
        "IF the temperature is 0-20, print \"Cold Weather\"\n",
        "IF the temperature is 21-30, print \" Warm Weather\"\n",
        "Otherwise, print \"Hot Weather\""
      ]
    },
    {
      "cell_type": "code",
      "execution_count": 13,
      "id": "4bbb422e",
      "metadata": {
        "colab": {
          "base_uri": "https://localhost:8080/"
        },
        "id": "4bbb422e",
        "outputId": "f11efaed-5106-46e7-9194-cbcb7e1015e9"
      },
      "outputs": [
        {
          "output_type": "stream",
          "name": "stdout",
          "text": [
            "Warm Weather\n"
          ]
        }
      ],
      "source": [
        "def weather_report(temp: float):\n",
        "    if temp < 0:\n",
        "        print(\"Freezing Cold\")\n",
        "    elif temp < 20:\n",
        "        print(\"Cold Weather\")\n",
        "    elif temp < 30:\n",
        "        print(\"Warm Weather\")\n",
        "    else:\n",
        "        print(\"Hot Weather\")\n",
        "\n",
        "weather_report(29)"
      ]
    },
    {
      "cell_type": "markdown",
      "id": "36f44c18",
      "metadata": {
        "id": "36f44c18"
      },
      "source": [
        "Exercise 2\n",
        "\n",
        "Write a function that takes an integer as an input score\n",
        "\n",
        "If the score is greater than or equal to 50, print \"Pass\"\n",
        "If the score is greater than or equal to 75, print \"Good\"\n",
        "If the score is exactly 100, print \"Perfect\"\n",
        "\n",
        "Since these are multiple independent conditions, more than one message print"
      ]
    },
    {
      "cell_type": "code",
      "execution_count": 9,
      "id": "b3971fd8",
      "metadata": {
        "colab": {
          "base_uri": "https://localhost:8080/"
        },
        "id": "b3971fd8",
        "outputId": "401e49da-faba-4116-bfd6-0899060c4ece"
      },
      "outputs": [
        {
          "output_type": "stream",
          "name": "stdout",
          "text": [
            "Perfect\n"
          ]
        }
      ],
      "source": [
        "def get_score(score: float):\n",
        "    if score <= 50:\n",
        "        print(\"Fail\")\n",
        "    elif score < 75:\n",
        "        print(\"Pass\")\n",
        "        print(\"Good\")\n",
        "    elif score == 100:\n",
        "        print(\"Perfect\")\n",
        "\n",
        "get_score(100)"
      ]
    },
    {
      "cell_type": "markdown",
      "id": "5c1b906e",
      "metadata": {
        "id": "5c1b906e"
      },
      "source": [
        "Exercise 3\n",
        "\n",
        "Write a program that returns the count of vowels in the string. Use a for loop to go through each character in the string.\n",
        "\n",
        "Input ==> apple, Output ==> 2\n",
        "\n",
        "Input ==> Hello World, Output => 3\n",
        "\n",
        "Input ==> balloon, Output ==> 3"
      ]
    },
    {
      "cell_type": "code",
      "execution_count": 8,
      "id": "64239a6d",
      "metadata": {
        "colab": {
          "base_uri": "https://localhost:8080/"
        },
        "id": "64239a6d",
        "outputId": "2603d32a-3669-45f9-9be4-338630de7f49"
      },
      "outputs": [
        {
          "output_type": "stream",
          "name": "stdout",
          "text": [
            "2\n"
          ]
        }
      ],
      "source": [
        "def count_vowels(st: str):\n",
        "    count = 0\n",
        "    vowels = \"aeiouAEIOU\"\n",
        "    for char in st:\n",
        "        if char in vowels:\n",
        "            count += 1\n",
        "    return count\n",
        "\n",
        "print(count_vowels(\"apple\"))"
      ]
    }
  ],
  "metadata": {
    "language_info": {
      "name": "python"
    },
    "colab": {
      "provenance": []
    },
    "kernelspec": {
      "name": "python3",
      "display_name": "Python 3"
    }
  },
  "nbformat": 4,
  "nbformat_minor": 5
}